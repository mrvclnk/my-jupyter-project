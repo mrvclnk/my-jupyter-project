{
 "cells": [
  {
   "cell_type": "code",
   "execution_count": 24,
   "id": "4a256a57-65fb-48f7-a424-caecaedf78a0",
   "metadata": {},
   "outputs": [
    {
     "name": "stdout",
     "output_type": "stream",
     "text": [
      "Tüm noktalar arasındaki mesafeler: [2.8284271247461903, 5.656854249492381, 8.48528137423857, 2.8284271247461903, 5.656854249492381, 2.8284271247461903]\n",
      "Minimum mesafe: 2.8284271247461903\n"
     ]
    }
   ],
   "source": [
    "import math\n",
    "\n",
    "# Öklid mesafesi hesaplama fonksiyonu\n",
    "def euclideanDistance(point1, point2):\n",
    "    # İki nokta arasındaki Öklid mesafesini hesapla\n",
    "    return math.sqrt((point1[0] - point2[0])**2 + (point1[1] - point2[1])**2)\n",
    "\n",
    "# 2D uzaydaki noktaları içeren 'points' listesi\n",
    "points = [(1, 2), (3, 4), (5, 6), (7, 8)]\n",
    "\n",
    "# Mesafeleri saklamak için boş bir liste\n",
    "distances = []\n",
    "\n",
    "# Tüm nokta çiftleri arasındaki mesafeleri hesapla\n",
    "for i in range(len(points)):\n",
    "    for j in range(i + 1, len(points)):  # Aynı çiftleri tekrar etmemek için j'yi i+1'den başlatıyoruz\n",
    "        distance = euclideanDistance(points[i], points[j])\n",
    "        distances.append(distance)\n",
    "\n",
    "# Minimum mesafeyi bul\n",
    "min_distance = min(distances)\n",
    "\n",
    "# Sonuçları ekrana yazdır\n",
    "print(\"Tüm noktalar arasındaki mesafeler:\", distances)\n",
    "print(\"Minimum mesafe:\", min_distance)\n"
   ]
  },
  {
   "cell_type": "code",
   "execution_count": null,
   "id": "926fdfec-110a-456b-8eed-127c52b777d9",
   "metadata": {},
   "outputs": [],
   "source": []
  }
 ],
 "metadata": {
  "kernelspec": {
   "display_name": "Python 3 (ipykernel)",
   "language": "python",
   "name": "python3"
  },
  "language_info": {
   "codemirror_mode": {
    "name": "ipython",
    "version": 3
   },
   "file_extension": ".py",
   "mimetype": "text/x-python",
   "name": "python",
   "nbconvert_exporter": "python",
   "pygments_lexer": "ipython3",
   "version": "3.12.4"
  }
 },
 "nbformat": 4,
 "nbformat_minor": 5
}
